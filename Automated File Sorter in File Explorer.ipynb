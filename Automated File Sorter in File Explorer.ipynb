{
 "cells": [
  {
   "cell_type": "markdown",
   "id": "7e479027",
   "metadata": {},
   "source": [
    "# Automated File Sorter in File Explorer"
   ]
  },
  {
   "cell_type": "code",
   "execution_count": 17,
   "id": "2e5d6339",
   "metadata": {},
   "outputs": [],
   "source": [
    "import os, shutil"
   ]
  },
  {
   "cell_type": "code",
   "execution_count": 22,
   "id": "3f66f910",
   "metadata": {},
   "outputs": [],
   "source": [
    "path = r\"C:/Users/andre/OneDrive/Documentos/Para ordenar/\""
   ]
  },
  {
   "cell_type": "code",
   "execution_count": 27,
   "id": "ab072f88",
   "metadata": {},
   "outputs": [
    {
     "name": "stdout",
     "output_type": "stream",
     "text": [
      "['Dairy Process.png', 'docx files', 'eddx files', 'Instrumentos.pdf', 'ISA-5.1-1984(R1992).pdf', 'Links de articulos-tesis.txt', 'NORMA ISA ESPAÑOL.pdf', 'OBJETIVOS y DISEÑO METODOLOGICO.docx', 'P&ID ACETATO DE SODIO.eddx', 'P&ID ACETATO DE SODIO.pdf', 'pago estudio visa.pdf', 'Parte Final proceso de cerveza.pdf', 'Parte Inicial proceso de cerveza.pdf', 'pdf files', 'pibr-00021-0820-food-bev-landscape.pdf', 'PID Produccion de azucar.pdf', 'Planta de mezcla(1).pdf', 'Planta de mezcla.pdf', 'Proceso de mantequilla 2.eddx', 'Proceso de mantequilla 3.eddx', 'Proceso de mantequilla 4.eddx', 'Proceso de mantequilla.eddx', 'PROCESO DE PRODUCCION DE ACETATO DE SODIO.docx', 'Proceso de prueba.eddx', 'Proceso P&ID.pdf', 'Produccion de refresco 1era parte.pdf', 'Produccion de refresco 2da parte.pdf', 'Produccion de refresco 3ra parte.pdf', 'PROYECCIONES.xlsx', 'Refresco.pdf', 'resolucion-requerimientos carta.pdf', 'resolucion.pdf', 'Taller final estructuras.xlsx', 'Tratamiento del agua.pdf', 'txt files', 'xlsx files']\n"
     ]
    }
   ],
   "source": [
    "file_name = os.listdir(path)\n",
    "print(file_name)"
   ]
  },
  {
   "cell_type": "code",
   "execution_count": 30,
   "id": "90d40b74",
   "metadata": {},
   "outputs": [],
   "source": [
    "folder_names = ['pdf files', 'eddx files', 'xlsx files', 'docx files', 'txt files', 'png files']\n",
    "for folder in folder_names:\n",
    "    if not(os.path.exists(path + folder)):\n",
    "        os.makedirs(path + folder)\n",
    "        print(path + folder)"
   ]
  },
  {
   "cell_type": "code",
   "execution_count": 32,
   "id": "c46b1201",
   "metadata": {},
   "outputs": [],
   "source": [
    "for file in file_name:\n",
    "    if '.pdf' in file and not os.path.exists(path + 'pdf files/' + file):\n",
    "        shutil.move(path + file, path + 'pdf files/' + file)"
   ]
  },
  {
   "cell_type": "code",
   "execution_count": 33,
   "id": "e9ff7491",
   "metadata": {},
   "outputs": [],
   "source": [
    "for file in file_name:\n",
    "    if '.png' in file and not os.path.exists(path + 'png files/' + file):\n",
    "        shutil.move(path + file, path + 'png files/' + file)"
   ]
  },
  {
   "cell_type": "code",
   "execution_count": 34,
   "id": "dfeb78da",
   "metadata": {},
   "outputs": [],
   "source": [
    "for file in file_name:\n",
    "    if '.eddx' in file and not os.path.exists(path + 'eddx files/' + file):\n",
    "        shutil.move(path + file, path + 'eddx files/' + file)"
   ]
  },
  {
   "cell_type": "code",
   "execution_count": 35,
   "id": "accfcbca",
   "metadata": {},
   "outputs": [],
   "source": [
    "for file in file_name:\n",
    "    if '.xlsx' in file and not os.path.exists(path + 'xlsx files/' + file):\n",
    "        shutil.move(path + file, path + 'xlsx files/' + file)"
   ]
  },
  {
   "cell_type": "code",
   "execution_count": 36,
   "id": "c32040cf",
   "metadata": {},
   "outputs": [],
   "source": [
    "for file in file_name:\n",
    "    if '.txt' in file and not os.path.exists(path + 'txt files/' + file):\n",
    "        shutil.move(path + file, path + 'txt files/' + file)"
   ]
  },
  {
   "cell_type": "code",
   "execution_count": 37,
   "id": "1ba25313",
   "metadata": {},
   "outputs": [],
   "source": [
    "for file in file_name:\n",
    "    if '.docx' in file and not os.path.exists(path + 'docx files/' + file):\n",
    "        shutil.move(path + file, path + 'docx files/' + file)"
   ]
  },
  {
   "cell_type": "code",
   "execution_count": null,
   "id": "9ed78fae",
   "metadata": {},
   "outputs": [],
   "source": []
  }
 ],
 "metadata": {
  "kernelspec": {
   "display_name": "Python 3 (ipykernel)",
   "language": "python",
   "name": "python3"
  },
  "language_info": {
   "codemirror_mode": {
    "name": "ipython",
    "version": 3
   },
   "file_extension": ".py",
   "mimetype": "text/x-python",
   "name": "python",
   "nbconvert_exporter": "python",
   "pygments_lexer": "ipython3",
   "version": "3.11.5"
  }
 },
 "nbformat": 4,
 "nbformat_minor": 5
}
